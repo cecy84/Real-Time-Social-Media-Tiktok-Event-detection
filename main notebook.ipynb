{
 "cells": [
  {
   "cell_type": "markdown",
   "metadata": {},
   "source": [
    "## Attempted to scrap dat from reddit and I can't seem to find the specific thing that I'm looking for "
   ]
  },
  {
   "cell_type": "code",
   "execution_count": 1,
   "metadata": {},
   "outputs": [
    {
     "name": "stdout",
     "output_type": "stream",
     "text": [
      "Note: you may need to restart the kernel to use updated packages.\n",
      "Requirement already satisfied: praw in c:\\users\\cecily\\anaconda3\\lib\\site-packages (7.8.1)\n",
      "Requirement already satisfied: prawcore<3,>=2.4 in c:\\users\\cecily\\anaconda3\\lib\\site-packages (from praw) (2.4.0)\n",
      "Requirement already satisfied: update_checker>=0.18 in c:\\users\\cecily\\anaconda3\\lib\\site-packages (from praw) (0.18.0)\n",
      "Requirement already satisfied: websocket-client>=0.54.0 in c:\\users\\cecily\\anaconda3\\lib\\site-packages (from praw) (1.8.0)\n",
      "Requirement already satisfied: requests<3.0,>=2.6.0 in c:\\users\\cecily\\anaconda3\\lib\\site-packages (from prawcore<3,>=2.4->praw) (2.32.2)\n",
      "Requirement already satisfied: charset-normalizer<4,>=2 in c:\\users\\cecily\\anaconda3\\lib\\site-packages (from requests<3.0,>=2.6.0->prawcore<3,>=2.4->praw) (2.0.4)\n",
      "Requirement already satisfied: idna<4,>=2.5 in c:\\users\\cecily\\anaconda3\\lib\\site-packages (from requests<3.0,>=2.6.0->prawcore<3,>=2.4->praw) (3.7)\n",
      "Requirement already satisfied: urllib3<3,>=1.21.1 in c:\\users\\cecily\\anaconda3\\lib\\site-packages (from requests<3.0,>=2.6.0->prawcore<3,>=2.4->praw) (2.2.2)\n",
      "Requirement already satisfied: certifi>=2017.4.17 in c:\\users\\cecily\\anaconda3\\lib\\site-packages (from requests<3.0,>=2.6.0->prawcore<3,>=2.4->praw) (2024.8.30)\n"
     ]
    }
   ],
   "source": [
    "pip install praw\n"
   ]
  },
  {
   "cell_type": "code",
   "execution_count": 2,
   "metadata": {},
   "outputs": [],
   "source": [
    "import datetime"
   ]
  },
  {
   "cell_type": "code",
   "execution_count": 2,
   "metadata": {},
   "outputs": [
    {
     "name": "stdout",
     "output_type": "stream",
     "text": [
      "Collecting tweepy\n",
      "  Downloading tweepy-4.14.0-py3-none-any.whl.metadata (3.8 kB)\n",
      "Collecting oauthlib<4,>=3.2.0 (from tweepy)\n",
      "  Downloading oauthlib-3.2.2-py3-none-any.whl.metadata (7.5 kB)\n",
      "Requirement already satisfied: requests<3,>=2.27.0 in c:\\users\\cecily\\anaconda3\\lib\\site-packages (from tweepy) (2.32.2)\n",
      "Collecting requests-oauthlib<2,>=1.2.0 (from tweepy)\n",
      "  Downloading requests_oauthlib-1.3.1-py2.py3-none-any.whl.metadata (10 kB)\n",
      "Requirement already satisfied: charset-normalizer<4,>=2 in c:\\users\\cecily\\anaconda3\\lib\\site-packages (from requests<3,>=2.27.0->tweepy) (2.0.4)\n",
      "Requirement already satisfied: idna<4,>=2.5 in c:\\users\\cecily\\anaconda3\\lib\\site-packages (from requests<3,>=2.27.0->tweepy) (3.7)\n",
      "Requirement already satisfied: urllib3<3,>=1.21.1 in c:\\users\\cecily\\anaconda3\\lib\\site-packages (from requests<3,>=2.27.0->tweepy) (2.2.2)\n",
      "Requirement already satisfied: certifi>=2017.4.17 in c:\\users\\cecily\\anaconda3\\lib\\site-packages (from requests<3,>=2.27.0->tweepy) (2024.8.30)\n",
      "Downloading tweepy-4.14.0-py3-none-any.whl (98 kB)\n",
      "   ---------------------------------------- 0.0/98.5 kB ? eta -:--:--\n",
      "   ------------ --------------------------- 30.7/98.5 kB 1.4 MB/s eta 0:00:01\n",
      "   --------------------------------- ------ 81.9/98.5 kB 919.0 kB/s eta 0:00:01\n",
      "   ---------------------------------------- 98.5/98.5 kB 949.2 kB/s eta 0:00:00\n",
      "Downloading oauthlib-3.2.2-py3-none-any.whl (151 kB)\n",
      "   ---------------------------------------- 0.0/151.7 kB ? eta -:--:--\n",
      "   ----------------------------- ---------- 112.6/151.7 kB 6.4 MB/s eta 0:00:01\n",
      "   ---------------------------------------- 151.7/151.7 kB 2.2 MB/s eta 0:00:00\n",
      "Downloading requests_oauthlib-1.3.1-py2.py3-none-any.whl (23 kB)\n",
      "Installing collected packages: oauthlib, requests-oauthlib, tweepy\n",
      "Successfully installed oauthlib-3.2.2 requests-oauthlib-1.3.1 tweepy-4.14.0\n",
      "Note: you may need to restart the kernel to use updated packages.\n"
     ]
    }
   ],
   "source": [
    "pip install tweepy\n"
   ]
  },
  {
   "cell_type": "code",
   "execution_count": 4,
   "metadata": {},
   "outputs": [
    {
     "name": "stdout",
     "output_type": "stream",
     "text": [
      "Requirement already satisfied: requests in c:\\users\\cecily\\anaconda3\\lib\\site-packages (2.32.2)\n",
      "Requirement already satisfied: charset-normalizer<4,>=2 in c:\\users\\cecily\\anaconda3\\lib\\site-packages (from requests) (2.0.4)\n",
      "Requirement already satisfied: idna<4,>=2.5 in c:\\users\\cecily\\anaconda3\\lib\\site-packages (from requests) (3.7)\n",
      "Requirement already satisfied: urllib3<3,>=1.21.1 in c:\\users\\cecily\\anaconda3\\lib\\site-packages (from requests) (2.2.2)\n",
      "Requirement already satisfied: certifi>=2017.4.17 in c:\\users\\cecily\\anaconda3\\lib\\site-packages (from requests) (2024.8.30)\n",
      "Note: you may need to restart the kernel to use updated packages.\n"
     ]
    }
   ],
   "source": [
    "pip install requests\n"
   ]
  },
  {
   "cell_type": "code",
   "execution_count": 2,
   "metadata": {},
   "outputs": [
    {
     "name": "stdout",
     "output_type": "stream",
     "text": [
      "Collecting Faker\n",
      "  Downloading faker-37.1.0-py3-none-any.whl.metadata (15 kB)\n",
      "Requirement already satisfied: tzdata in c:\\users\\cecily\\anaconda3\\lib\\site-packages (from Faker) (2023.3)\n",
      "Downloading faker-37.1.0-py3-none-any.whl (1.9 MB)\n",
      "   ---------------------------------------- 0.0/1.9 MB ? eta -:--:--\n",
      "    --------------------------------------- 0.0/1.9 MB ? eta -:--:--\n",
      "   - -------------------------------------- 0.1/1.9 MB 777.7 kB/s eta 0:00:03\n",
      "   -- ------------------------------------- 0.1/1.9 MB 819.2 kB/s eta 0:00:03\n",
      "   -- ------------------------------------- 0.1/1.9 MB 708.1 kB/s eta 0:00:03\n",
      "   --- ------------------------------------ 0.2/1.9 MB 654.6 kB/s eta 0:00:03\n",
      "   ---- ----------------------------------- 0.2/1.9 MB 692.9 kB/s eta 0:00:03\n",
      "   ---- ----------------------------------- 0.2/1.9 MB 687.0 kB/s eta 0:00:03\n",
      "   ---- ----------------------------------- 0.2/1.9 MB 654.9 kB/s eta 0:00:03\n",
      "   ----- ---------------------------------- 0.3/1.9 MB 679.3 kB/s eta 0:00:03\n",
      "   ------ --------------------------------- 0.3/1.9 MB 655.0 kB/s eta 0:00:03\n",
      "   ------- -------------------------------- 0.4/1.9 MB 674.7 kB/s eta 0:00:03\n",
      "   -------- ------------------------------- 0.4/1.9 MB 673.0 kB/s eta 0:00:03\n",
      "   --------- ------------------------------ 0.4/1.9 MB 688.1 kB/s eta 0:00:03\n",
      "   --------- ------------------------------ 0.5/1.9 MB 685.7 kB/s eta 0:00:03\n",
      "   ---------- ----------------------------- 0.5/1.9 MB 683.6 kB/s eta 0:00:03\n",
      "   ----------- ---------------------------- 0.5/1.9 MB 681.8 kB/s eta 0:00:03\n",
      "   ----------- ---------------------------- 0.6/1.9 MB 693.8 kB/s eta 0:00:02\n",
      "   ------------ --------------------------- 0.6/1.9 MB 703.7 kB/s eta 0:00:02\n",
      "   ------------- -------------------------- 0.6/1.9 MB 713.9 kB/s eta 0:00:02\n",
      "   ------------- -------------------------- 0.7/1.9 MB 710.8 kB/s eta 0:00:02\n",
      "   -------------- ------------------------- 0.7/1.9 MB 708.0 kB/s eta 0:00:02\n",
      "   --------------- ------------------------ 0.7/1.9 MB 714.4 kB/s eta 0:00:02\n",
      "   ---------------- ----------------------- 0.8/1.9 MB 711.8 kB/s eta 0:00:02\n",
      "   ---------------- ----------------------- 0.8/1.9 MB 719.6 kB/s eta 0:00:02\n",
      "   ----------------- ---------------------- 0.8/1.9 MB 716.5 kB/s eta 0:00:02\n",
      "   ------------------ --------------------- 0.9/1.9 MB 722.4 kB/s eta 0:00:02\n",
      "   ------------------- -------------------- 0.9/1.9 MB 728.0 kB/s eta 0:00:02\n",
      "   -------------------- ------------------- 1.0/1.9 MB 724.3 kB/s eta 0:00:02\n",
      "   -------------------- ------------------- 1.0/1.9 MB 739.7 kB/s eta 0:00:02\n",
      "   --------------------- ------------------ 1.0/1.9 MB 743.5 kB/s eta 0:00:02\n",
      "   ---------------------- ----------------- 1.1/1.9 MB 732.4 kB/s eta 0:00:02\n",
      "   ----------------------- ---------------- 1.1/1.9 MB 737.8 kB/s eta 0:00:02\n",
      "   ----------------------- ---------------- 1.1/1.9 MB 741.9 kB/s eta 0:00:02\n",
      "   ------------------------ --------------- 1.2/1.9 MB 745.8 kB/s eta 0:00:01\n",
      "   ------------------------- -------------- 1.2/1.9 MB 749.9 kB/s eta 0:00:01\n",
      "   -------------------------- ------------- 1.3/1.9 MB 746.2 kB/s eta 0:00:01\n",
      "   --------------------------- ------------ 1.3/1.9 MB 756.5 kB/s eta 0:00:01\n",
      "   --------------------------- ------------ 1.3/1.9 MB 753.8 kB/s eta 0:00:01\n",
      "   ---------------------------- ----------- 1.4/1.9 MB 757.9 kB/s eta 0:00:01\n",
      "   ---------------------------- ----------- 1.4/1.9 MB 757.9 kB/s eta 0:00:01\n",
      "   ----------------------------- ---------- 1.4/1.9 MB 735.2 kB/s eta 0:00:01\n",
      "   ------------------------------ --------- 1.5/1.9 MB 738.9 kB/s eta 0:00:01\n",
      "   ------------------------------ --------- 1.5/1.9 MB 737.3 kB/s eta 0:00:01\n",
      "   ------------------------------- -------- 1.5/1.9 MB 735.4 kB/s eta 0:00:01\n",
      "   -------------------------------- ------- 1.6/1.9 MB 743.3 kB/s eta 0:00:01\n",
      "   --------------------------------- ------ 1.6/1.9 MB 741.3 kB/s eta 0:00:01\n",
      "   ---------------------------------- ----- 1.6/1.9 MB 749.6 kB/s eta 0:00:01\n",
      "   ---------------------------------- ----- 1.7/1.9 MB 742.2 kB/s eta 0:00:01\n",
      "   ------------------------------------ --- 1.7/1.9 MB 743.8 kB/s eta 0:00:01\n",
      "   ------------------------------------ --- 1.8/1.9 MB 747.0 kB/s eta 0:00:01\n",
      "   ------------------------------------- -- 1.8/1.9 MB 748.7 kB/s eta 0:00:01\n",
      "   -------------------------------------- - 1.8/1.9 MB 752.6 kB/s eta 0:00:01\n",
      "   -------------------------------------- - 1.9/1.9 MB 745.9 kB/s eta 0:00:01\n",
      "   ---------------------------------------  1.9/1.9 MB 747.8 kB/s eta 0:00:01\n",
      "   ---------------------------------------  1.9/1.9 MB 747.8 kB/s eta 0:00:01\n",
      "   ---------------------------------------- 1.9/1.9 MB 735.8 kB/s eta 0:00:00\n",
      "Installing collected packages: Faker\n",
      "Successfully installed Faker-37.1.0\n"
     ]
    }
   ],
   "source": [
    "!pip install Faker\n"
   ]
  },
  {
   "cell_type": "code",
   "execution_count": 1,
   "metadata": {},
   "outputs": [
    {
     "name": "stdout",
     "output_type": "stream",
     "text": [
      "✅ Mock data generated!\n"
     ]
    }
   ],
   "source": [
    "import pandas as pd\n",
    "import random\n",
    "from faker import Faker    #faker is used to generate fake but realistic data \n",
    "import datetime\n",
    "\n",
    "fake = Faker()\n",
    "\n",
    "# Trending topics to randomly inject\n",
    "trend_topics = [\"#elections2025\", \"#newmusic\", \"#kenyatrending\", \"#NairobiFloods\", \"#viral\", \"#AI\", \"#mentalhealth\"]\n",
    "\n",
    "# Function to simulate post text\n",
    "def generate_post():\n",
    "    base = fake.sentence(nb_words=random.randint(5, 12))  #this is saying generate a sentence between 5 to 12 words\n",
    "    hashtags = random.sample(trend_topics, k=random.randint(1, 2)) #From the list of trending hashtags, randomly choose 1 or 2 hashtags, and use them in the post\n",
    "    return base + \" \" + \" \".join(hashtags) # for combining the two\n",
    "\n",
    "# Generate data\n",
    "data = []\n",
    "for _ in range(500):\n",
    "    post = {\n",
    "        \"timestamp\": fake.date_time_between(start_date=\"-3d\", end_date=\"now\").strftime(\"%Y-%m-%d %H:%M:%S\"), # start from 3 days ago to now and the .strftime converts the datetime object to string \n",
    "        \"username\": fake.user_name(),\n",
    "        \"text\": generate_post(),\n",
    "        \"likes\": random.randint(10, 5000), #Each fake TikTok post will have a random number of likes between 10 and 5000 — inclusive.\n",
    "        \"shares\": random.randint(1, 1000)\n",
    "    }\n",
    "    data.append(post)\n",
    "\n",
    "# Save as CSV\n",
    "df = pd.DataFrame(data)\n",
    "df.to_csv(\"data/mock_tiktok_data.csv\", index=False)\n",
    "\n",
    "print(\"✅ Mock data generated!\")\n"
   ]
  },
  {
   "cell_type": "markdown",
   "metadata": {},
   "source": [
    "## Text Preporcessing"
   ]
  },
  {
   "cell_type": "code",
   "execution_count": 2,
   "metadata": {},
   "outputs": [],
   "source": [
    "import pandas as pd\n",
    "import re # stands for regular expressions  and its used for finding partterns in strings \n",
    "import nltk\n",
    "from nltk.corpus import stopwords\n",
    "from nltk.tokenize import word_tokenize\n"
   ]
  },
  {
   "cell_type": "code",
   "execution_count": 3,
   "metadata": {},
   "outputs": [
    {
     "name": "stderr",
     "output_type": "stream",
     "text": [
      "[nltk_data] Downloading package punkt to\n",
      "[nltk_data]     C:\\Users\\Cecily\\AppData\\Roaming\\nltk_data...\n",
      "[nltk_data]   Package punkt is already up-to-date!\n",
      "[nltk_data] Downloading package stopwords to\n",
      "[nltk_data]     C:\\Users\\Cecily\\AppData\\Roaming\\nltk_data...\n",
      "[nltk_data]   Package stopwords is already up-to-date!\n"
     ]
    },
    {
     "data": {
      "text/plain": [
       "True"
      ]
     },
     "execution_count": 3,
     "metadata": {},
     "output_type": "execute_result"
    }
   ],
   "source": [
    "nltk.download('punkt')\n",
    "nltk.download('stopwords')\n"
   ]
  },
  {
   "cell_type": "code",
   "execution_count": 5,
   "metadata": {},
   "outputs": [],
   "source": [
    "def clean_text(text):\n",
    "    # Lowercase\n",
    "    text = text.lower()\n",
    "\n",
    "    # Remove special characters (except hashtags)\n",
    "    text = re.sub(r\"[^a-zA-Z0-9# ]\", \"\", text)  #Find any character that is not a letter, number, hashtag, or space and the two \"\" means replacing the special characters with nothing \n",
    "\n",
    "    # Tokenize\n",
    "    tokens = word_tokenize(text)\n",
    "\n",
    "    # Remove stopwords\n",
    "    stop_words = set(stopwords.words(\"english\"))\n",
    "    tokens = [word for word in tokens if word not in stop_words]\n",
    "\n",
    "    return tokens\n"
   ]
  },
  {
   "cell_type": "code",
   "execution_count": 6,
   "metadata": {},
   "outputs": [
    {
     "name": "stdout",
     "output_type": "stream",
     "text": [
      "                                                text  \\\n",
      "0   Perhaps speech along relationship. #mentalhealth   \n",
      "1  Necessary turn toward on happen. #mentalhealth...   \n",
      "2   Vote fear Mrs cover work job. #elections2025 #AI   \n",
      "3  Exist new popular no then either suddenly addr...   \n",
      "4       Matter discover next out. #NairobiFloods #AI   \n",
      "\n",
      "                                        clean_tokens  \n",
      "0  [perhaps, speech, along, relationship, #, ment...  \n",
      "1  [necessary, turn, toward, happen, #, mentalhea...  \n",
      "2  [vote, fear, mrs, cover, work, job, #, electio...  \n",
      "3  [exist, new, popular, either, suddenly, addres...  \n",
      "4  [matter, discover, next, #, nairobifloods, #, ai]  \n"
     ]
    }
   ],
   "source": [
    "df = pd.read_csv(\"data/mock_tiktok_data.csv\")\n",
    "\n",
    "# Apply the function\n",
    "df[\"clean_tokens\"] = df[\"text\"].apply(clean_text)\n",
    "\n",
    "# Preview\n",
    "print(df[[\"text\", \"clean_tokens\"]].head())\n"
   ]
  },
  {
   "cell_type": "markdown",
   "metadata": {},
   "source": [
    "###  Extracting and visualizing hashtags"
   ]
  },
  {
   "cell_type": "code",
   "execution_count": 15,
   "metadata": {},
   "outputs": [],
   "source": [
    "def extract_hashtags (text):\n",
    "    hashtags =re.findall(r,\"#/w+\" ,text)\n",
    "    return [tag.lower() for tag in hashtags]"
   ]
  },
  {
   "cell_type": "code",
   "execution_count": 8,
   "metadata": {},
   "outputs": [],
   "source": [
    "from textblob import TextBlob\n",
    "\n",
    "def get_sentiment(text):\n",
    "    score = TextBlob(text).sentiment.polarity\n",
    "    if score > 0:\n",
    "        return 'positive'\n",
    "    elif score < 0:\n",
    "        return 'negative'\n",
    "    else:\n",
    "        return 'neutral'\n",
    "\n",
    "df['sentiment'] = df['text'].apply(get_sentiment)\n"
   ]
  },
  {
   "cell_type": "code",
   "execution_count": 9,
   "metadata": {},
   "outputs": [
    {
     "data": {
      "text/plain": [
       "<function matplotlib.pyplot.show(close=None, block=None)>"
      ]
     },
     "execution_count": 9,
     "metadata": {},
     "output_type": "execute_result"
    },
    {
     "data": {
      "image/png": "[encoded data removed]",
      "text/plain": [
       "<Figure size 640x480 with 1 Axes>"
      ]
     },
     "metadata": {},
     "output_type": "display_data"
    }
   ],
   "source": [
    "import seaborn as sns\n",
    "import matplotlib.pyplot as plt \n",
    "\n",
    "sns.countplot(data=df,x='sentiment')\n",
    "plt.title('sentiment Distribution of Tiktok posts')\n",
    "plt.show"
   ]
  },
  {
   "cell_type": "markdown",
   "metadata": {},
   "source": [
    "## Clustering Posts by Hashtags"
   ]
  },
  {
   "cell_type": "code",
   "execution_count": null,
   "metadata": {},
   "outputs": [],
   "source": [
    "#So Here's the Plan:\n",
    "# ✅ Start clustering hashtags now \n",
    "\n",
    "# 📈 Visualize hashtag groupings\n",
    "\n",
    "# 💬 Label clusters like “feminism”, “tech events”, “influencers”\n",
    "\n",
    "# 📚 Then later: learn TF-IDF + post clustering"
   ]
  },
  {
   "cell_type": "code",
   "execution_count": 10,
   "metadata": {},
   "outputs": [
    {
     "ename": "KeyError",
     "evalue": "'hashtags'",
     "output_type": "error",
     "traceback": [
      "\u001b[1;31m---------------------------------------------------------------------------\u001b[0m",
      "\u001b[1;31mKeyError\u001b[0m                                  Traceback (most recent call last)",
      "File \u001b[1;32mc:\\Users\\Cecily\\anaconda3\\Lib\\site-packages\\pandas\\core\\indexes\\base.py:3805\u001b[0m, in \u001b[0;36mIndex.get_loc\u001b[1;34m(self, key)\u001b[0m\n\u001b[0;32m   3804\u001b[0m \u001b[38;5;28;01mtry\u001b[39;00m:\n\u001b[1;32m-> 3805\u001b[0m     \u001b[38;5;28;01mreturn\u001b[39;00m \u001b[38;5;28mself\u001b[39m\u001b[38;5;241m.\u001b[39m_engine\u001b[38;5;241m.\u001b[39mget_loc(casted_key)\n\u001b[0;32m   3806\u001b[0m \u001b[38;5;28;01mexcept\u001b[39;00m \u001b[38;5;167;01mKeyError\u001b[39;00m \u001b[38;5;28;01mas\u001b[39;00m err:\n",
      "File \u001b[1;32mindex.pyx:167\u001b[0m, in \u001b[0;36mpandas._libs.index.IndexEngine.get_loc\u001b[1;34m()\u001b[0m\n",
      "File \u001b[1;32mindex.pyx:196\u001b[0m, in \u001b[0;36mpandas._libs.index.IndexEngine.get_loc\u001b[1;34m()\u001b[0m\n",
      "File \u001b[1;32mpandas\\\\_libs\\\\hashtable_class_helper.pxi:7081\u001b[0m, in \u001b[0;36mpandas._libs.hashtable.PyObjectHashTable.get_item\u001b[1;34m()\u001b[0m\n",
      "File \u001b[1;32mpandas\\\\_libs\\\\hashtable_class_helper.pxi:7089\u001b[0m, in \u001b[0;36mpandas._libs.hashtable.PyObjectHashTable.get_item\u001b[1;34m()\u001b[0m\n",
      "\u001b[1;31mKeyError\u001b[0m: 'hashtags'",
      "\nThe above exception was the direct cause of the following exception:\n",
      "\u001b[1;31mKeyError\u001b[0m                                  Traceback (most recent call last)",
      "Cell \u001b[1;32mIn[10], line 1\u001b[0m\n\u001b[1;32m----> 1\u001b[0m df[\u001b[38;5;124m'\u001b[39m\u001b[38;5;124mhashtag_string\u001b[39m\u001b[38;5;124m'\u001b[39m] \u001b[38;5;241m=\u001b[39m df[\u001b[38;5;124m'\u001b[39m\u001b[38;5;124mhashtags\u001b[39m\u001b[38;5;124m'\u001b[39m]\u001b[38;5;241m.\u001b[39mapply(\u001b[38;5;28;01mlambda\u001b[39;00m tags: \u001b[38;5;124m'\u001b[39m\u001b[38;5;124m \u001b[39m\u001b[38;5;124m'\u001b[39m\u001b[38;5;241m.\u001b[39mjoin(tags))\n",
      "File \u001b[1;32mc:\\Users\\Cecily\\anaconda3\\Lib\\site-packages\\pandas\\core\\frame.py:4102\u001b[0m, in \u001b[0;36mDataFrame.__getitem__\u001b[1;34m(self, key)\u001b[0m\n\u001b[0;32m   4100\u001b[0m \u001b[38;5;28;01mif\u001b[39;00m \u001b[38;5;28mself\u001b[39m\u001b[38;5;241m.\u001b[39mcolumns\u001b[38;5;241m.\u001b[39mnlevels \u001b[38;5;241m>\u001b[39m \u001b[38;5;241m1\u001b[39m:\n\u001b[0;32m   4101\u001b[0m     \u001b[38;5;28;01mreturn\u001b[39;00m \u001b[38;5;28mself\u001b[39m\u001b[38;5;241m.\u001b[39m_getitem_multilevel(key)\n\u001b[1;32m-> 4102\u001b[0m indexer \u001b[38;5;241m=\u001b[39m \u001b[38;5;28mself\u001b[39m\u001b[38;5;241m.\u001b[39mcolumns\u001b[38;5;241m.\u001b[39mget_loc(key)\n\u001b[0;32m   4103\u001b[0m \u001b[38;5;28;01mif\u001b[39;00m is_integer(indexer):\n\u001b[0;32m   4104\u001b[0m     indexer \u001b[38;5;241m=\u001b[39m [indexer]\n",
      "File \u001b[1;32mc:\\Users\\Cecily\\anaconda3\\Lib\\site-packages\\pandas\\core\\indexes\\base.py:3812\u001b[0m, in \u001b[0;36mIndex.get_loc\u001b[1;34m(self, key)\u001b[0m\n\u001b[0;32m   3807\u001b[0m     \u001b[38;5;28;01mif\u001b[39;00m \u001b[38;5;28misinstance\u001b[39m(casted_key, \u001b[38;5;28mslice\u001b[39m) \u001b[38;5;129;01mor\u001b[39;00m (\n\u001b[0;32m   3808\u001b[0m         \u001b[38;5;28misinstance\u001b[39m(casted_key, abc\u001b[38;5;241m.\u001b[39mIterable)\n\u001b[0;32m   3809\u001b[0m         \u001b[38;5;129;01mand\u001b[39;00m \u001b[38;5;28many\u001b[39m(\u001b[38;5;28misinstance\u001b[39m(x, \u001b[38;5;28mslice\u001b[39m) \u001b[38;5;28;01mfor\u001b[39;00m x \u001b[38;5;129;01min\u001b[39;00m casted_key)\n\u001b[0;32m   3810\u001b[0m     ):\n\u001b[0;32m   3811\u001b[0m         \u001b[38;5;28;01mraise\u001b[39;00m InvalidIndexError(key)\n\u001b[1;32m-> 3812\u001b[0m     \u001b[38;5;28;01mraise\u001b[39;00m \u001b[38;5;167;01mKeyError\u001b[39;00m(key) \u001b[38;5;28;01mfrom\u001b[39;00m \u001b[38;5;21;01merr\u001b[39;00m\n\u001b[0;32m   3813\u001b[0m \u001b[38;5;28;01mexcept\u001b[39;00m \u001b[38;5;167;01mTypeError\u001b[39;00m:\n\u001b[0;32m   3814\u001b[0m     \u001b[38;5;66;03m# If we have a listlike key, _check_indexing_error will raise\u001b[39;00m\n\u001b[0;32m   3815\u001b[0m     \u001b[38;5;66;03m#  InvalidIndexError. Otherwise we fall through and re-raise\u001b[39;00m\n\u001b[0;32m   3816\u001b[0m     \u001b[38;5;66;03m#  the TypeError.\u001b[39;00m\n\u001b[0;32m   3817\u001b[0m     \u001b[38;5;28mself\u001b[39m\u001b[38;5;241m.\u001b[39m_check_indexing_error(key)\n",
      "\u001b[1;31mKeyError\u001b[0m: 'hashtags'"
     ]
    }
   ],
   "source": [
    "df['hashtag_string'] = df['hashtags'].apply(lambda tags: ' '.join(tags)) # converting the hashtags to strings in preparation of vectorizing and clustering\n"
   ]
  },
  {
   "cell_type": "code",
   "execution_count": 11,
   "metadata": {},
   "outputs": [
    {
     "name": "stdout",
     "output_type": "stream",
     "text": [
      "Index(['timestamp', 'username', 'text', 'likes', 'shares', 'clean_tokens',\n",
      "       'sentiment'],\n",
      "      dtype='object')\n"
     ]
    }
   ],
   "source": [
    "print(df.columns)\n"
   ]
  },
  {
   "cell_type": "code",
   "execution_count": 17,
   "metadata": {},
   "outputs": [
    {
     "name": "stdout",
     "output_type": "stream",
     "text": [
      "Index(['timestamp', 'username', 'text', 'likes', 'shares', 'clean_tokens',\n",
      "       'sentiment'],\n",
      "      dtype='object')\n"
     ]
    }
   ],
   "source": [
    "print (df.columns)"
   ]
  }
 ],
 "metadata": {
  "kernelspec": {
   "display_name": "base",
   "language": "python",
   "name": "python3"
  },
  "language_info": {
   "codemirror_mode": {
    "name": "ipython",
    "version": 3
   },
   "file_extension": ".py",
   "mimetype": "text/x-python",
   "name": "python",
   "nbconvert_exporter": "python",
   "pygments_lexer": "ipython3",
   "version": "3.12.4"
  }
 },
 "nbformat": 4,
 "nbformat_minor": 2
}
